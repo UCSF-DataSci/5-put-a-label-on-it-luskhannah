{
 "cells": [
  {
   "cell_type": "markdown",
   "id": "d230e2d4",
   "metadata": {},
   "source": [
    "# Install necessary packages"
   ]
  },
  {
   "cell_type": "code",
   "execution_count": null,
   "id": "44d1678d",
   "metadata": {
    "lines_to_next_cell": 0
   },
   "outputs": [],
   "source": [
    "%pip install -r requirements.txt"
   ]
  },
  {
   "cell_type": "markdown",
   "id": "a2f6c5eb",
   "metadata": {},
   "source": [
    "# Part 2: Time Series Features & Tree-Based Models\n",
    "\n",
    "**Objective:** Extract basic time-series features from heart rate data, train Random Forest and XGBoost models, and compare their performance.\n",
    "\n",
    "## 1. Setup\n",
    "\n",
    "Import necessary libraries."
   ]
  },
  {
   "cell_type": "code",
   "execution_count": 2,
   "id": "2addb72b",
   "metadata": {},
   "outputs": [],
   "source": [
    "import pandas as pd\n",
    "import numpy as np\n",
    "import os\n",
    "from sklearn.model_selection import train_test_split\n",
    "from sklearn.ensemble import RandomForestClassifier\n",
    "import xgboost as xgb\n",
    "from sklearn.metrics import roc_auc_score\n",
    "from sklearn.impute import SimpleImputer"
   ]
  },
  {
   "cell_type": "markdown",
   "id": "cd907ef4",
   "metadata": {},
   "source": [
    "## 2. Data Loading\n",
    "\n",
    "Load the dataset."
   ]
  },
  {
   "cell_type": "code",
   "execution_count": 3,
   "id": "899dabd6",
   "metadata": {},
   "outputs": [],
   "source": [
    "def load_data(file_path):\n",
    "    \"\"\"\n",
    "    Load the synthetic health data from a CSV file.\n",
    "    \n",
    "    Args:\n",
    "        file_path: Path to the CSV file\n",
    "        \n",
    "    Returns:\n",
    "        DataFrame containing the data\n",
    "    \"\"\"\n",
    "    df = pd.read_csv(file_path)\n",
    "    \n",
    "    return df"
   ]
  },
  {
   "cell_type": "markdown",
   "id": "4177b05d",
   "metadata": {},
   "source": [
    "## 3. Feature Engineering\n",
    "\n",
    "Implement `extract_rolling_features` to calculate rolling mean and standard deviation for the `heart_rate`."
   ]
  },
  {
   "cell_type": "code",
   "execution_count": 4,
   "id": "29cccddc",
   "metadata": {},
   "outputs": [],
   "source": [
    "def extract_rolling_features(df, window_size_seconds):\n",
    "    \"\"\"\n",
    "    Calculate rolling mean and standard deviation for heart rate.\n",
    "    \n",
    "    Args:\n",
    "        df: DataFrame with timestamp and heart_rate columns\n",
    "        window_size_seconds: Size of the rolling window in seconds\n",
    "        \n",
    "    Returns:\n",
    "        DataFrame with added hr_rolling_mean and hr_rolling_std columns\n",
    "    \"\"\"\n",
    "     # 1. Sort by timestamp\n",
    "    df_sorted = df.sort_values('timestamp')\n",
    "\n",
    "    # 2. Convert 'timestamp' to datetime if not already\n",
    "    if not np.issubdtype(df_sorted['timestamp'].dtype, np.datetime64):\n",
    "        df_sorted['timestamp'] = pd.to_datetime(df_sorted['timestamp'])\n",
    "\n",
    "    # 3. Set timestamp as index\n",
    "    df_indexed = df_sorted.set_index('timestamp')\n",
    "\n",
    "    # 4. Create rolling window and calculate statistics\n",
    "    rolling_window = df_indexed['heart_rate'].rolling(window=f'{window_size_seconds}s')\n",
    "    df_indexed['hr_rolling_mean'] = rolling_window.mean()\n",
    "    df_indexed['hr_rolling_std'] = rolling_window.std()\n",
    "\n",
    "    # 5. Reset index to bring 'timestamp' back as a column\n",
    "    df_result = df_indexed.reset_index()\n",
    "\n",
    "    # 6. Handle NaN values — here we use backward fill as an example\n",
    "    df_result = df_result.fillna(method='bfill')\n",
    "\n",
    "    return df_result\n"
   ]
  },
  {
   "cell_type": "code",
   "execution_count": 23,
   "id": "d4963110",
   "metadata": {},
   "outputs": [
    {
     "name": "stdout",
     "output_type": "stream",
     "text": [
      "   timestamp  heart_rate  hr_rolling_mean  hr_rolling_std\n",
      "0 2023-01-01   65.241827        65.241827        7.187153\n",
      "1 2023-01-01   75.405997        70.323912        7.187153\n",
      "2 2023-01-01   71.244470        70.630764        5.109800\n",
      "3 2023-01-01   76.660696        72.138247        5.147497\n",
      "4 2023-01-02   63.534376        63.534376        2.716776\n"
     ]
    },
    {
     "name": "stderr",
     "output_type": "stream",
     "text": [
      "/var/folders/4h/kzhxx0lj3_v2vsxlh0r31jlh0000gn/T/ipykernel_22993/3859939902.py:31: FutureWarning: DataFrame.fillna with 'method' is deprecated and will raise in a future version. Use obj.ffill() or obj.bfill() instead.\n",
      "  df_result = df_result.fillna(method='bfill')\n"
     ]
    }
   ],
   "source": [
    "# Assuming you have a DataFrame with 'timestamp' and 'heart_rate' columns:\n",
    "df_with_features = extract_rolling_features(df, window_size_seconds=60)\n",
    "print(df_with_features[['timestamp', 'heart_rate', 'hr_rolling_mean', 'hr_rolling_std']].head())"
   ]
  },
  {
   "cell_type": "markdown",
   "id": "f45fb08f",
   "metadata": {},
   "source": [
    "## 4. Data Preparation\n",
    "\n",
    "Implement `prepare_data_part2` using the newly engineered features."
   ]
  },
  {
   "cell_type": "code",
   "execution_count": 24,
   "id": "34ea1776",
   "metadata": {},
   "outputs": [],
   "source": [
    "def prepare_data_part2(df_with_features, test_size=0.2, random_state=42):\n",
    "    \"\"\"\n",
    "    Prepare data for modeling with time-series features.\n",
    "    \n",
    "    Args:\n",
    "        df_with_features: DataFrame with original and rolling features\n",
    "        test_size: Proportion of data for testing\n",
    "        random_state: Random seed for reproducibility\n",
    "        \n",
    "    Returns:\n",
    "        X_train, X_test, y_train, y_test\n",
    "    \"\"\"\n",
    "    # 1. Select relevant features (original + rolling)\n",
    "    feature_columns = [\n",
    "        'age', 'systolic_bp', 'diastolic_bp', 'glucose_level', 'bmi',\n",
    "        'heart_rate', 'hr_rolling_mean', 'hr_rolling_std'\n",
    "    ]\n",
    "    X = df_with_features[feature_columns]\n",
    "\n",
    "    # 2. Select target variable\n",
    "    y = df_with_features['disease_outcome']\n",
    "\n",
    "    # 3. Split data into training and testing sets\n",
    "    X_train, X_test, y_train, y_test = train_test_split(\n",
    "        X, y, test_size=test_size, random_state=random_state\n",
    "    )\n",
    "\n",
    "    # 4. Handle missing values with mean imputation\n",
    "    imputer = SimpleImputer(strategy='mean')\n",
    "    X_train = imputer.fit_transform(X_train)\n",
    "    X_test = imputer.transform(X_test)\n",
    "\n",
    "    return X_train, X_test, y_train, y_test"
   ]
  },
  {
   "cell_type": "code",
   "execution_count": 26,
   "id": "d8bb6099",
   "metadata": {},
   "outputs": [
    {
     "name": "stdout",
     "output_type": "stream",
     "text": [
      "✅ Data preparation successful!\n",
      "X_train shape: (5860, 8)\n",
      "X_test shape: (1466, 8)\n",
      "y_train shape: (5860,)\n",
      "y_test shape: (1466,)\n",
      "\n",
      "🔍 First row of X_train:\n",
      "[ 61.         123.36531426  76.21565544  89.52354595  22.99350618\n",
      "  75.4382151   75.4382151    1.13331571]\n"
     ]
    }
   ],
   "source": [
    "# Prepare the data\n",
    "X_train, X_test, y_train, y_test = prepare_data_part2(df_with_features)\n",
    "\n",
    "# Show basic info to confirm it worked\n",
    "print(\"✅ Data preparation successful!\")\n",
    "print(f\"X_train shape: {X_train.shape}\")\n",
    "print(f\"X_test shape: {X_test.shape}\")\n",
    "print(f\"y_train shape: {y_train.shape}\")\n",
    "print(f\"y_test shape: {y_test.shape}\")\n",
    "\n",
    "# Optionally, show the first row\n",
    "print(\"\\n🔍 First row of X_train:\")\n",
    "print(X_train[0])"
   ]
  },
  {
   "cell_type": "markdown",
   "id": "f7cfccad",
   "metadata": {},
   "source": [
    "## 5. Random Forest Model\n",
    "\n",
    "Implement `train_random_forest`."
   ]
  },
  {
   "cell_type": "code",
   "execution_count": 28,
   "id": "9ab30c5f",
   "metadata": {},
   "outputs": [],
   "source": [
    "def train_random_forest(X_train, y_train, n_estimators=100, max_depth=10, random_state=42):\n",
    "    \"\"\"\n",
    "    Train a Random Forest classifier.\n",
    "    \n",
    "    Args:\n",
    "        X_train: Training features\n",
    "        y_train: Training target\n",
    "        n_estimators: Number of trees in the forest\n",
    "        max_depth: Maximum depth of the trees\n",
    "        random_state: Random seed for reproducibility\n",
    "        \n",
    "    Returns:\n",
    "        Trained Random Forest model\n",
    "    \"\"\"\n",
    "    # Initialize the model\n",
    "    model = RandomForestClassifier(\n",
    "        n_estimators=n_estimators,\n",
    "        max_depth=max_depth,\n",
    "        random_state=random_state\n",
    "    )\n",
    "\n",
    "    # Train the model\n",
    "    model.fit(X_train, y_train)\n",
    "\n",
    "    return model"
   ]
  },
  {
   "cell_type": "code",
   "execution_count": 29,
   "id": "c36ce4c7",
   "metadata": {},
   "outputs": [
    {
     "name": "stdout",
     "output_type": "stream",
     "text": [
      "✅ Random Forest model trained!\n",
      "Number of features used: 8\n",
      "Feature importances: [0.15229812 0.07483407 0.1966758  0.19108635 0.09438751 0.13900973\n",
      " 0.11412556 0.03758286]\n"
     ]
    }
   ],
   "source": [
    "rf_model = train_random_forest(X_train, y_train)\n",
    "\n",
    "# Show basic confirmation\n",
    "print(\"✅ Random Forest model trained!\")\n",
    "print(f\"Number of features used: {X_train.shape[1]}\")\n",
    "print(f\"Feature importances: {rf_model.feature_importances_}\")"
   ]
  },
  {
   "cell_type": "markdown",
   "id": "6795af58",
   "metadata": {},
   "source": [
    "## 6. XGBoost Model\n",
    "\n",
    "Implement `train_xgboost`."
   ]
  },
  {
   "cell_type": "code",
   "execution_count": 31,
   "id": "13383baf",
   "metadata": {},
   "outputs": [],
   "source": [
    "def train_xgboost(X_train, y_train, n_estimators=100, learning_rate=0.1, max_depth=5, random_state=42):\n",
    "    \"\"\"\n",
    "    Train an XGBoost classifier.\n",
    "    \n",
    "    Args:\n",
    "        X_train: Training features\n",
    "        y_train: Training target\n",
    "        n_estimators: Number of boosting rounds\n",
    "        learning_rate: Boosting learning rate\n",
    "        max_depth: Maximum depth of a tree\n",
    "        random_state: Random seed for reproducibility\n",
    "        \n",
    "    Returns:\n",
    "        Trained XGBoost model\n",
    "    \"\"\"\n",
    "     # Initialize the XGBClassifier\n",
    "    model = xgb.XGBClassifier(\n",
    "        n_estimators=n_estimators,\n",
    "        learning_rate=learning_rate,\n",
    "        max_depth=max_depth,\n",
    "        random_state=random_state,\n",
    "        use_label_encoder=False,\n",
    "        eval_metric='logloss'  # To suppress warning in classification\n",
    "    )\n",
    "\n",
    "    # Fit the model\n",
    "    model.fit(X_train, y_train)\n",
    "\n",
    "    return model"
   ]
  },
  {
   "cell_type": "code",
   "execution_count": 32,
   "id": "98444fb9",
   "metadata": {},
   "outputs": [
    {
     "name": "stdout",
     "output_type": "stream",
     "text": [
      "✅ XGBoost model trained!\n",
      "Number of features: 8\n",
      "First few feature importances: [0.09524207 0.07333629 0.22293133 0.17960101 0.07984374]\n"
     ]
    },
    {
     "name": "stderr",
     "output_type": "stream",
     "text": [
      "/Library/Frameworks/Python.framework/Versions/3.13/lib/python3.13/site-packages/xgboost/core.py:158: UserWarning: [20:00:23] WARNING: /Users/runner/work/xgboost/xgboost/src/learner.cc:740: \n",
      "Parameters: { \"use_label_encoder\" } are not used.\n",
      "\n",
      "  warnings.warn(smsg, UserWarning)\n"
     ]
    }
   ],
   "source": [
    "xgb_model = train_xgboost(X_train, y_train)\n",
    "\n",
    "# Confirm training\n",
    "print(\"✅ XGBoost model trained!\")\n",
    "print(f\"Number of features: {X_train.shape[1]}\")\n",
    "print(f\"First few feature importances: {xgb_model.feature_importances_[:5]}\")"
   ]
  },
  {
   "cell_type": "markdown",
   "id": "8812a1bd",
   "metadata": {},
   "source": [
    "## 7. Model Comparison\n",
    "\n",
    "Calculate and compare AUC scores for both models."
   ]
  },
  {
   "cell_type": "code",
   "execution_count": 33,
   "id": "b84d8634",
   "metadata": {},
   "outputs": [],
   "source": [
    "def compare_models_auc(rf_model, xgb_model, X_test, y_test):\n",
    "    \"\"\"\n",
    "    Compare AUC scores of Random Forest and XGBoost models.\n",
    "    \n",
    "    Args:\n",
    "        rf_model: Trained Random Forest model\n",
    "        xgb_model: Trained XGBoost model\n",
    "        X_test: Test features\n",
    "        y_test: True labels for the test set\n",
    "    \n",
    "    Returns:\n",
    "        Dictionary with AUC scores for both models and the name of the better model\n",
    "    \"\"\"\n",
    "    # 1. Generate probability predictions\n",
    "    rf_probs = rf_model.predict_proba(X_test)[:, 1]\n",
    "    xgb_probs = xgb_model.predict_proba(X_test)[:, 1]\n",
    "\n",
    "    # 2. Calculate AUC scores\n",
    "    rf_auc = roc_auc_score(y_test, rf_probs)\n",
    "    xgb_auc = roc_auc_score(y_test, xgb_probs)\n",
    "\n",
    "    # 3. Compare performance\n",
    "    better_model = \"Random Forest\" if rf_auc > xgb_auc else \"XGBoost\"\n",
    "\n",
    "    # Print results\n",
    "    print(\"✅ AUC Score Comparison:\")\n",
    "    print(f\"Random Forest AUC: {rf_auc:.4f}\")\n",
    "    print(f\"XGBoost AUC:       {xgb_auc:.4f}\")\n",
    "    print(f\"🏆 Better Model:    {better_model}\")\n",
    "\n",
    "    return {\n",
    "        \"random_forest_auc\": rf_auc,\n",
    "        \"xgboost_auc\": xgb_auc,\n",
    "        \"better_model\": better_model\n",
    "    }"
   ]
  },
  {
   "cell_type": "code",
   "execution_count": 34,
   "id": "de623296",
   "metadata": {},
   "outputs": [
    {
     "name": "stdout",
     "output_type": "stream",
     "text": [
      "✅ AUC Score Comparison:\n",
      "Random Forest AUC: 0.9722\n",
      "XGBoost AUC:       0.9967\n",
      "🏆 Better Model:    XGBoost\n"
     ]
    }
   ],
   "source": [
    "results = compare_models_auc(rf_model, xgb_model, X_test, y_test)"
   ]
  },
  {
   "cell_type": "markdown",
   "id": "d84e8950",
   "metadata": {},
   "source": [
    "## 8. Save Results\n",
    "\n",
    "Save the AUC scores to a text file."
   ]
  },
  {
   "cell_type": "code",
   "execution_count": 35,
   "id": "dc8df491",
   "metadata": {},
   "outputs": [],
   "source": [
    "def save_auc_scores(results_dict, filename=\"results/results_part2.txt\"):\n",
    "    \"\"\"\n",
    "    Save AUC scores to a text file.\n",
    "    \n",
    "    Args:\n",
    "        results_dict: Dictionary with AUC scores and model comparison\n",
    "        filename: Path to the output file\n",
    "    \"\"\"\n",
    "    # 1. Create 'results' directory if it doesn't exist\n",
    "    os.makedirs(os.path.dirname(filename), exist_ok=True)\n",
    "\n",
    "    # 2. Format AUC scores and model comparison\n",
    "    lines = [\n",
    "        f\"Random Forest AUC: {results_dict['random_forest_auc']:.4f}\",\n",
    "        f\"XGBoost AUC:       {results_dict['xgboost_auc']:.4f}\",\n",
    "        f\"Better Model:      {results_dict['better_model']}\"\n",
    "    ]\n",
    "\n",
    "    # 3. Write scores to file\n",
    "    with open(filename, \"w\") as f:\n",
    "        f.write(\"\\n\".join(lines))\n",
    "\n",
    "    print(f\"✅ AUC scores saved to {filename}\")"
   ]
  },
  {
   "cell_type": "code",
   "execution_count": 36,
   "id": "d463f139",
   "metadata": {},
   "outputs": [
    {
     "name": "stdout",
     "output_type": "stream",
     "text": [
      "✅ AUC scores saved to results/results_part2.txt\n"
     ]
    }
   ],
   "source": [
    "save_auc_scores(results)"
   ]
  },
  {
   "cell_type": "markdown",
   "id": "98dfb303",
   "metadata": {},
   "source": [
    "## 9. Main Execution\n",
    "\n",
    "Run the complete workflow."
   ]
  },
  {
   "cell_type": "code",
   "execution_count": 37,
   "id": "45031a59",
   "metadata": {},
   "outputs": [
    {
     "name": "stderr",
     "output_type": "stream",
     "text": [
      "/var/folders/4h/kzhxx0lj3_v2vsxlh0r31jlh0000gn/T/ipykernel_22993/3859939902.py:31: FutureWarning: DataFrame.fillna with 'method' is deprecated and will raise in a future version. Use obj.ffill() or obj.bfill() instead.\n",
      "  df_result = df_result.fillna(method='bfill')\n"
     ]
    },
    {
     "name": "stdout",
     "output_type": "stream",
     "text": [
      "Random Forest AUC: 0.9743\n",
      "XGBoost AUC: 0.9965\n"
     ]
    },
    {
     "name": "stderr",
     "output_type": "stream",
     "text": [
      "/Library/Frameworks/Python.framework/Versions/3.13/lib/python3.13/site-packages/xgboost/core.py:158: UserWarning: [20:10:28] WARNING: /Users/runner/work/xgboost/xgboost/src/learner.cc:740: \n",
      "Parameters: { \"use_label_encoder\" } are not used.\n",
      "\n",
      "  warnings.warn(smsg, UserWarning)\n"
     ]
    }
   ],
   "source": [
    "# Main execution\n",
    "if __name__ == \"__main__\":\n",
    "    # 1. Load data\n",
    "    data_file = 'data/synthetic_health_data.csv'\n",
    "    df = load_data(data_file)\n",
    "    \n",
    "    # 2. Extract rolling features\n",
    "    window_size = 300  # 5 minutes in seconds\n",
    "    df_with_features = extract_rolling_features(df, window_size)\n",
    "    \n",
    "    # 3. Prepare data\n",
    "    X_train, X_test, y_train, y_test = prepare_data_part2(df_with_features)\n",
    "    \n",
    "    # 4. Train models\n",
    "    rf_model = train_random_forest(X_train, y_train)\n",
    "    xgb_model = train_xgboost(X_train, y_train)\n",
    "    \n",
    "    # 5. Calculate AUC scores\n",
    "    rf_probs = rf_model.predict_proba(X_test)[:, 1]\n",
    "    xgb_probs = xgb_model.predict_proba(X_test)[:, 1]\n",
    "    \n",
    "    rf_auc = roc_auc_score(y_test, rf_probs)\n",
    "    xgb_auc = roc_auc_score(y_test, xgb_probs)\n",
    "    \n",
    "    print(f\"Random Forest AUC: {rf_auc:.4f}\")\n",
    "    print(f\"XGBoost AUC: {xgb_auc:.4f}\")\n",
    "    \n",
    "    # 6. Save results\n",
    "    # (Your code for saving results)"
   ]
  }
 ],
 "metadata": {
  "jupytext": {
   "cell_metadata_filter": "-all",
   "main_language": "python",
   "notebook_metadata_filter": "-all"
  },
  "kernelspec": {
   "display_name": "Python 3",
   "language": "python",
   "name": "python3"
  },
  "language_info": {
   "codemirror_mode": {
    "name": "ipython",
    "version": 3
   },
   "file_extension": ".py",
   "mimetype": "text/x-python",
   "name": "python",
   "nbconvert_exporter": "python",
   "pygments_lexer": "ipython3",
   "version": "3.13.2"
  }
 },
 "nbformat": 4,
 "nbformat_minor": 5
}
