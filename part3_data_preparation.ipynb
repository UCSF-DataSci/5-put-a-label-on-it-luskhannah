{
 "cells": [
  {
   "cell_type": "markdown",
   "id": "8fa8efa3",
   "metadata": {},
   "source": [
    "# Install necessary packages"
   ]
  },
  {
   "cell_type": "code",
   "execution_count": null,
   "id": "64dbc39d",
   "metadata": {
    "lines_to_next_cell": 0
   },
   "outputs": [],
   "source": [
    "%pip install -r requirements.txt"
   ]
  },
  {
   "cell_type": "markdown",
   "id": "3adf4218",
   "metadata": {},
   "source": [
    "# Part 3: Practical Data Preparation\n",
    "\n",
    "**Objective:** Handle categorical features using One-Hot Encoding and address class imbalance using SMOTE.\n",
    "\n",
    "## 1. Setup\n",
    "\n",
    "Import necessary libraries."
   ]
  },
  {
   "cell_type": "code",
   "execution_count": 2,
   "id": "cb0a597b",
   "metadata": {},
   "outputs": [],
   "source": [
    "import pandas as pd\n",
    "import numpy as np\n",
    "import os\n",
    "from sklearn.model_selection import train_test_split\n",
    "from sklearn.preprocessing import OneHotEncoder\n",
    "from sklearn.linear_model import LogisticRegression\n",
    "from sklearn.metrics import accuracy_score, precision_score, recall_score, f1_score, roc_auc_score, confusion_matrix\n",
    "from sklearn.impute import SimpleImputer\n",
    "from imblearn.over_sampling import SMOTE"
   ]
  },
  {
   "cell_type": "markdown",
   "id": "065aaf4a",
   "metadata": {},
   "source": [
    "## 2. Data Loading\n",
    "\n",
    "Load the dataset."
   ]
  },
  {
   "cell_type": "code",
   "execution_count": 6,
   "id": "8e41d87f",
   "metadata": {},
   "outputs": [],
   "source": [
    "def load_data(file_path):\n",
    "    \"\"\"\n",
    "    Load the synthetic health data from a CSV file.\n",
    "    \n",
    "    Args:\n",
    "        file_path: Path to the CSV file\n",
    "        \n",
    "    Returns:\n",
    "        DataFrame containing the data\n",
    "    \"\"\"\n",
    "    df = pd.read_csv(file_path)\n",
    "    \n",
    "    return df"
   ]
  },
  {
   "cell_type": "code",
   "execution_count": 9,
   "id": "89cc653f",
   "metadata": {},
   "outputs": [],
   "source": [
    "df = pd.read_csv(\"data/synthetic_health_data.csv\")"
   ]
  },
  {
   "cell_type": "markdown",
   "id": "ec740d9e",
   "metadata": {},
   "source": [
    "## 3. Categorical Feature Encoding\n",
    "\n",
    "Implement `encode_categorical_features` using `OneHotEncoder`."
   ]
  },
  {
   "cell_type": "code",
   "execution_count": 12,
   "id": "4a98d2fa",
   "metadata": {},
   "outputs": [],
   "source": [
    "def encode_categorical_features(df, column_to_encode='smoker_status'):\n",
    "    \"\"\"\n",
    "    Encode a categorical column using OneHotEncoder.\n",
    "    \n",
    "    Args:\n",
    "        df: Input DataFrame\n",
    "        column_to_encode: Name of the categorical column to encode\n",
    "        \n",
    "    Returns:\n",
    "        DataFrame with the categorical column replaced by one-hot encoded columns\n",
    "    \"\"\"\n",
    "     # 1. Extract the column as a DataFrame (2D shape required for encoder)\n",
    "    cat_data = df[[column_to_encode]]\n",
    "\n",
    "    # 2. Apply OneHotEncoder\n",
    "    encoder = OneHotEncoder(sparse_output=False, drop='first')  # drop='first' to avoid multicollinearity\n",
    "    encoded_array = encoder.fit_transform(cat_data)\n",
    "\n",
    "    # 3. Create new column names\n",
    "    encoded_cols = encoder.get_feature_names_out([column_to_encode])\n",
    "\n",
    "    # 4. Create a DataFrame from the encoded data\n",
    "    encoded_df = pd.DataFrame(encoded_array, columns=encoded_cols, index=df.index)\n",
    "\n",
    "    # 5. Drop the original column and concatenate the new one-hot columns\n",
    "    df_encoded = df.drop(columns=[column_to_encode])\n",
    "    df_encoded = pd.concat([df_encoded, encoded_df], axis=1)\n",
    "\n",
    "    return df_encoded"
   ]
  },
  {
   "cell_type": "code",
   "execution_count": 13,
   "id": "1ff68a91",
   "metadata": {},
   "outputs": [
    {
     "name": "stdout",
     "output_type": "stream",
     "text": [
      "   patient_id                   timestamp  age  systolic_bp  diastolic_bp  \\\n",
      "0           1  2023-01-29 00:00:00.000000   57   113.063416     84.069561   \n",
      "1           1  2023-01-31 07:33:55.507789   57   121.598849     89.672279   \n",
      "2           1  2023-02-02 00:15:11.379377   57   126.623222     87.619685   \n",
      "3           1  2023-02-04 09:37:12.589164   57   136.999366     89.199774   \n",
      "4           1  2023-02-04 20:56:52.838198   57   127.546919     92.644673   \n",
      "\n",
      "   glucose_level        bmi  heart_rate  disease_outcome  smoker_status_no  \\\n",
      "0     117.475210  25.085796   62.719587                0               1.0   \n",
      "1      85.120875  24.120608   76.314434                0               1.0   \n",
      "2            NaN  24.819332   62.427785                0               1.0   \n",
      "3     118.755648  25.039598   61.612981                0               1.0   \n",
      "4      98.882007  24.895024   77.649615                0               1.0   \n",
      "\n",
      "   smoker_status_yes  \n",
      "0                0.0  \n",
      "1                0.0  \n",
      "2                0.0  \n",
      "3                0.0  \n",
      "4                0.0  \n"
     ]
    }
   ],
   "source": [
    "df_encoded = encode_categorical_features(df, column_to_encode='smoker_status')\n",
    "print(df_encoded.head())"
   ]
  },
  {
   "cell_type": "markdown",
   "id": "6ddbe098",
   "metadata": {},
   "source": [
    "## 4. Data Preparation\n",
    "\n",
    "Implement `prepare_data_part3` to handle the train/test split correctly."
   ]
  },
  {
   "cell_type": "code",
   "execution_count": 16,
   "id": "398990a5",
   "metadata": {},
   "outputs": [],
   "source": [
    "def prepare_data_part3(df, test_size=0.2, random_state=42):\n",
    "    \"\"\"\n",
    "    Prepare data with categorical encoding.\n",
    "    \n",
    "    Args:\n",
    "        df: Input DataFrame\n",
    "        test_size: Proportion of data for testing\n",
    "        random_state: Random seed for reproducibility\n",
    "        \n",
    "    Returns:\n",
    "        X_train, X_test, y_train, y_test\n",
    "    \"\"\"\n",
    "    # 1. Encode the categorical feature (e.g., 'smoker_status')\n",
    "    df_encoded = encode_categorical_features(df, column_to_encode='smoker_status')\n",
    "\n",
    "    # 2. Select features and target\n",
    "    target = 'disease_outcome'\n",
    "\n",
    "    # Drop the target, then keep only numeric columns for modeling\n",
    "    X = df_encoded.drop(columns=[target]).select_dtypes(include='number')\n",
    "    y = df_encoded[target]\n",
    "\n",
    "    # 3. Split into train and test sets\n",
    "    X_train, X_test, y_train, y_test = train_test_split(\n",
    "        X, y, test_size=test_size, random_state=random_state\n",
    "    )\n",
    "\n",
    "    # 4. Handle missing values with SimpleImputer\n",
    "    imputer = SimpleImputer(strategy='mean')\n",
    "    X_train = imputer.fit_transform(X_train)\n",
    "    X_test = imputer.transform(X_test)\n",
    "\n",
    "    return X_train, X_test, y_train, y_test"
   ]
  },
  {
   "cell_type": "code",
   "execution_count": 17,
   "id": "051e5d83",
   "metadata": {},
   "outputs": [
    {
     "name": "stdout",
     "output_type": "stream",
     "text": [
      "✅ Data prepared with categorical encoding.\n",
      "X_train shape: (5860, 9)\n"
     ]
    }
   ],
   "source": [
    "X_train, X_test, y_train, y_test = prepare_data_part3(df)\n",
    "print(\"✅ Data prepared with categorical encoding.\")\n",
    "print(f\"X_train shape: {X_train.shape}\")"
   ]
  },
  {
   "cell_type": "markdown",
   "id": "e8c7f8af",
   "metadata": {},
   "source": [
    "## 5. Handling Imbalanced Data\n",
    "\n",
    "Implement `apply_smote` to oversample the minority class."
   ]
  },
  {
   "cell_type": "code",
   "execution_count": 31,
   "id": "923757a7",
   "metadata": {},
   "outputs": [],
   "source": [
    "def apply_smote(X_train, y_train, random_state=42):\n",
    "    \"\"\"\n",
    "    Apply SMOTE to oversample the minority class.\n",
    "    \n",
    "    Args:\n",
    "        X_train: Training features\n",
    "        y_train: Training target\n",
    "        random_state: Random seed for reproducibility\n",
    "        \n",
    "    Returns:\n",
    "        Resampled X_train and y_train with balanced classes\n",
    "    \"\"\"\n",
    "    \n",
    "    # Initialize SMOTE\n",
    "    smote = SMOTE(random_state=random_state)\n",
    "\n",
    "    # Apply SMOTE to training data\n",
    "    X_resampled, y_resampled = smote.fit_resample(X_train, y_train)\n",
    "\n",
    "    return X_resampled, y_resampled"
   ]
  },
  {
   "cell_type": "code",
   "execution_count": 32,
   "id": "c0b20da7",
   "metadata": {},
   "outputs": [
    {
     "name": "stdout",
     "output_type": "stream",
     "text": [
      "✅ SMOTE applied.\n",
      "Before SMOTE: {0: 5291, 1: 569}\n",
      "After SMOTE:  {0: 5291, 1: 5291}\n"
     ]
    }
   ],
   "source": [
    "X_train_balanced, y_train_balanced = apply_smote(X_train, y_train)\n",
    "\n",
    "print(\"✅ SMOTE applied.\")\n",
    "print(f\"Before SMOTE: {y_train.value_counts().to_dict()}\")\n",
    "print(f\"After SMOTE:  {pd.Series(y_train_balanced).value_counts().to_dict()}\")"
   ]
  },
  {
   "cell_type": "markdown",
   "id": "8c08d92d",
   "metadata": {},
   "source": [
    "## 6. Model Training and Evaluation\n",
    "\n",
    "Train a model on the SMOTE-resampled data and evaluate it."
   ]
  },
  {
   "cell_type": "code",
   "execution_count": 20,
   "id": "8c752066",
   "metadata": {},
   "outputs": [],
   "source": [
    "def train_logistic_regression(X_train, y_train):\n",
    "    \"\"\"\n",
    "    Train a logistic regression model.\n",
    "    \n",
    "    Args:\n",
    "        X_train: Training features\n",
    "        y_train: Training target\n",
    "        \n",
    "    Returns:\n",
    "        Trained logistic regression model\n",
    "    \"\"\"\n",
    "    model = LogisticRegression(max_iter=1000, solver='lbfgs')\n",
    "    model.fit(X_train, y_train)\n",
    "    return model\n",
    "\n",
    "def calculate_evaluation_metrics(model, X_test, y_test):\n",
    "    \"\"\"\n",
    "    Calculate classification evaluation metrics.\n",
    "    \n",
    "    Args:\n",
    "        model: Trained model\n",
    "        X_test: Test features\n",
    "        y_test: Test target\n",
    "        \n",
    "    Returns:\n",
    "        Dictionary containing accuracy, precision, recall, f1, auc, and confusion_matrix\n",
    "    \"\"\"\n",
    "    # 1. Generate predictions\n",
    "    y_pred = model.predict(X_test)\n",
    "    y_prob = model.predict_proba(X_test)[:, 1]  # Probability for AUC\n",
    "\n",
    "    # 2. Calculate metrics\n",
    "    accuracy = accuracy_score(y_test, y_pred)\n",
    "    precision = precision_score(y_test, y_pred, zero_division=0)\n",
    "    recall = recall_score(y_test, y_pred, zero_division=0)\n",
    "    f1 = f1_score(y_test, y_pred, zero_division=0)\n",
    "    auc = roc_auc_score(y_test, y_prob)\n",
    "\n",
    "    # 3. Confusion matrix\n",
    "    cm = confusion_matrix(y_test, y_pred)\n",
    "\n",
    "    # 4. Return as dictionary\n",
    "    return {\n",
    "        \"accuracy\": accuracy,\n",
    "        \"precision\": precision,\n",
    "        \"recall\": recall,\n",
    "        \"f1_score\": f1,\n",
    "        \"auc\": auc,\n",
    "        \"confusion_matrix\": cm\n",
    "    }"
   ]
  },
  {
   "cell_type": "code",
   "execution_count": 21,
   "id": "1570120c",
   "metadata": {},
   "outputs": [
    {
     "name": "stdout",
     "output_type": "stream",
     "text": [
      "✅ Evaluation on original test set (after SMOTE training):\n",
      "accuracy: 0.8547\n",
      "precision: 0.3885\n",
      "recall: 0.8531\n",
      "f1_score: 0.5339\n",
      "auc: 0.9267\n",
      "confusion_matrix:\n",
      "[[1131  192]\n",
      " [  21  122]]\n",
      "\n"
     ]
    },
    {
     "name": "stderr",
     "output_type": "stream",
     "text": [
      "/Library/Frameworks/Python.framework/Versions/3.13/lib/python3.13/site-packages/sklearn/linear_model/_linear_loss.py:200: RuntimeWarning: divide by zero encountered in matmul\n",
      "  raw_prediction = X @ weights + intercept\n",
      "/Library/Frameworks/Python.framework/Versions/3.13/lib/python3.13/site-packages/sklearn/linear_model/_linear_loss.py:200: RuntimeWarning: overflow encountered in matmul\n",
      "  raw_prediction = X @ weights + intercept\n",
      "/Library/Frameworks/Python.framework/Versions/3.13/lib/python3.13/site-packages/sklearn/linear_model/_linear_loss.py:200: RuntimeWarning: invalid value encountered in matmul\n",
      "  raw_prediction = X @ weights + intercept\n",
      "/Library/Frameworks/Python.framework/Versions/3.13/lib/python3.13/site-packages/sklearn/linear_model/_linear_loss.py:330: RuntimeWarning: divide by zero encountered in matmul\n",
      "  grad[:n_features] = X.T @ grad_pointwise + l2_reg_strength * weights\n",
      "/Library/Frameworks/Python.framework/Versions/3.13/lib/python3.13/site-packages/sklearn/linear_model/_linear_loss.py:330: RuntimeWarning: overflow encountered in matmul\n",
      "  grad[:n_features] = X.T @ grad_pointwise + l2_reg_strength * weights\n",
      "/Library/Frameworks/Python.framework/Versions/3.13/lib/python3.13/site-packages/sklearn/linear_model/_linear_loss.py:330: RuntimeWarning: invalid value encountered in matmul\n",
      "  grad[:n_features] = X.T @ grad_pointwise + l2_reg_strength * weights\n",
      "/Library/Frameworks/Python.framework/Versions/3.13/lib/python3.13/site-packages/sklearn/utils/extmath.py:203: RuntimeWarning: divide by zero encountered in matmul\n",
      "  ret = a @ b\n",
      "/Library/Frameworks/Python.framework/Versions/3.13/lib/python3.13/site-packages/sklearn/utils/extmath.py:203: RuntimeWarning: overflow encountered in matmul\n",
      "  ret = a @ b\n",
      "/Library/Frameworks/Python.framework/Versions/3.13/lib/python3.13/site-packages/sklearn/utils/extmath.py:203: RuntimeWarning: invalid value encountered in matmul\n",
      "  ret = a @ b\n",
      "/Library/Frameworks/Python.framework/Versions/3.13/lib/python3.13/site-packages/sklearn/utils/extmath.py:203: RuntimeWarning: divide by zero encountered in matmul\n",
      "  ret = a @ b\n",
      "/Library/Frameworks/Python.framework/Versions/3.13/lib/python3.13/site-packages/sklearn/utils/extmath.py:203: RuntimeWarning: overflow encountered in matmul\n",
      "  ret = a @ b\n",
      "/Library/Frameworks/Python.framework/Versions/3.13/lib/python3.13/site-packages/sklearn/utils/extmath.py:203: RuntimeWarning: invalid value encountered in matmul\n",
      "  ret = a @ b\n"
     ]
    }
   ],
   "source": [
    "# 1. Apply SMOTE to balance the training data\n",
    "X_train_bal, y_train_bal = apply_smote(X_train, y_train)\n",
    "\n",
    "# 2. Train logistic regression on resampled data\n",
    "logreg_model = train_logistic_regression(X_train_bal, y_train_bal)\n",
    "\n",
    "# 3. Evaluate on original test set\n",
    "metrics = calculate_evaluation_metrics(logreg_model, X_test, y_test)\n",
    "\n",
    "# 4. Print results\n",
    "print(\"✅ Evaluation on original test set (after SMOTE training):\")\n",
    "for key, value in metrics.items():\n",
    "    print(f\"{key}:\\n{value}\\n\" if key == \"confusion_matrix\" else f\"{key}: {value:.4f}\")"
   ]
  },
  {
   "cell_type": "markdown",
   "id": "cc62c05c",
   "metadata": {},
   "source": [
    "## 7. Save Results\n",
    "\n",
    "Save the evaluation metrics to a text file."
   ]
  },
  {
   "cell_type": "code",
   "execution_count": 22,
   "id": "1200ca7b",
   "metadata": {},
   "outputs": [],
   "source": [
    "def save_results_part3(metrics, filename=\"results/results_part3.txt\"):\n",
    "    \"\"\"\n",
    "    Save evaluation metrics from the SMOTE-trained model to a text file.\n",
    "    \n",
    "    Args:\n",
    "        metrics: Dictionary of evaluation metrics\n",
    "        filename: Path to output file\n",
    "    \"\"\"\n",
    "    # 1. Create 'results' directory if it doesn't exist\n",
    "    os.makedirs(os.path.dirname(filename), exist_ok=True)\n",
    "\n",
    "    # 2. Format metrics\n",
    "    lines = []\n",
    "    for key, value in metrics.items():\n",
    "        if key == \"confusion_matrix\":\n",
    "            lines.append(f\"{key}:\\n{value}\\n\")\n",
    "        else:\n",
    "            lines.append(f\"{key}: {value:.4f}\")\n",
    "\n",
    "    # 3. Write to file\n",
    "    with open(filename, \"w\") as f:\n",
    "        f.write(\"\\n\".join(lines))\n",
    "\n",
    "    print(f\"✅ Metrics saved to {filename}\")"
   ]
  },
  {
   "cell_type": "code",
   "execution_count": 23,
   "id": "3eb22f18",
   "metadata": {},
   "outputs": [
    {
     "name": "stdout",
     "output_type": "stream",
     "text": [
      "✅ Metrics saved to results/results_part3.txt\n"
     ]
    }
   ],
   "source": [
    "\n",
    "save_results_part3(metrics)"
   ]
  },
  {
   "cell_type": "markdown",
   "id": "41614798",
   "metadata": {},
   "source": [
    "## 8. Main Execution\n",
    "\n",
    "Run the complete workflow."
   ]
  },
  {
   "cell_type": "code",
   "execution_count": 40,
   "id": "783f9f0c",
   "metadata": {},
   "outputs": [
    {
     "name": "stdout",
     "output_type": "stream",
     "text": [
      "✅ Evaluation on original test set (after SMOTE training):\n",
      "accuracy: 0.8547\n",
      "precision: 0.3885\n",
      "recall: 0.8531\n",
      "f1_score: 0.5339\n",
      "auc: 0.9267\n",
      "confusion_matrix:\n",
      "[[1131  192]\n",
      " [  21  122]]\n",
      "\n",
      "✅ Metrics saved to results/results_part3.txt\n",
      "\n",
      "📊 Model Comparison (Improvement % from Part 1 to Part 3):\n",
      "accuracy: -6.77%\n",
      "precision: -41.26%\n",
      "recall: 183.72%\n",
      "f1_score: 29.12%\n",
      "auc: 2.01%\n"
     ]
    },
    {
     "name": "stderr",
     "output_type": "stream",
     "text": [
      "/Library/Frameworks/Python.framework/Versions/3.13/lib/python3.13/site-packages/sklearn/linear_model/_linear_loss.py:200: RuntimeWarning: divide by zero encountered in matmul\n",
      "  raw_prediction = X @ weights + intercept\n",
      "/Library/Frameworks/Python.framework/Versions/3.13/lib/python3.13/site-packages/sklearn/linear_model/_linear_loss.py:200: RuntimeWarning: overflow encountered in matmul\n",
      "  raw_prediction = X @ weights + intercept\n",
      "/Library/Frameworks/Python.framework/Versions/3.13/lib/python3.13/site-packages/sklearn/linear_model/_linear_loss.py:200: RuntimeWarning: invalid value encountered in matmul\n",
      "  raw_prediction = X @ weights + intercept\n",
      "/Library/Frameworks/Python.framework/Versions/3.13/lib/python3.13/site-packages/sklearn/linear_model/_linear_loss.py:330: RuntimeWarning: divide by zero encountered in matmul\n",
      "  grad[:n_features] = X.T @ grad_pointwise + l2_reg_strength * weights\n",
      "/Library/Frameworks/Python.framework/Versions/3.13/lib/python3.13/site-packages/sklearn/linear_model/_linear_loss.py:330: RuntimeWarning: overflow encountered in matmul\n",
      "  grad[:n_features] = X.T @ grad_pointwise + l2_reg_strength * weights\n",
      "/Library/Frameworks/Python.framework/Versions/3.13/lib/python3.13/site-packages/sklearn/linear_model/_linear_loss.py:330: RuntimeWarning: invalid value encountered in matmul\n",
      "  grad[:n_features] = X.T @ grad_pointwise + l2_reg_strength * weights\n",
      "/Library/Frameworks/Python.framework/Versions/3.13/lib/python3.13/site-packages/sklearn/utils/extmath.py:203: RuntimeWarning: divide by zero encountered in matmul\n",
      "  ret = a @ b\n",
      "/Library/Frameworks/Python.framework/Versions/3.13/lib/python3.13/site-packages/sklearn/utils/extmath.py:203: RuntimeWarning: overflow encountered in matmul\n",
      "  ret = a @ b\n",
      "/Library/Frameworks/Python.framework/Versions/3.13/lib/python3.13/site-packages/sklearn/utils/extmath.py:203: RuntimeWarning: invalid value encountered in matmul\n",
      "  ret = a @ b\n",
      "/Library/Frameworks/Python.framework/Versions/3.13/lib/python3.13/site-packages/sklearn/utils/extmath.py:203: RuntimeWarning: divide by zero encountered in matmul\n",
      "  ret = a @ b\n",
      "/Library/Frameworks/Python.framework/Versions/3.13/lib/python3.13/site-packages/sklearn/utils/extmath.py:203: RuntimeWarning: overflow encountered in matmul\n",
      "  ret = a @ b\n",
      "/Library/Frameworks/Python.framework/Versions/3.13/lib/python3.13/site-packages/sklearn/utils/extmath.py:203: RuntimeWarning: invalid value encountered in matmul\n",
      "  ret = a @ b\n"
     ]
    }
   ],
   "source": [
    "# Main execution\n",
    "if __name__ == \"__main__\":\n",
    "    # 1. Load data\n",
    "    data_file = 'data/synthetic_health_data.csv'\n",
    "    df = load_data(data_file)\n",
    "\n",
    "    # 2. Prepare data\n",
    "    X_train, X_test, y_train, y_test = prepare_data_part3(df)\n",
    "\n",
    "    # 3. Apply SMOTE\n",
    "    X_train_resampled, y_train_resampled = apply_smote(X_train, y_train)\n",
    "\n",
    "    # 4. Train logistic regression\n",
    "    model = train_logistic_regression(X_train_resampled, y_train_resampled)\n",
    "\n",
    "    # 5. Evaluate on test set\n",
    "    metrics = calculate_evaluation_metrics(model, X_test, y_test)\n",
    "\n",
    "    # 6. Print metrics\n",
    "    print(\"✅ Evaluation on original test set (after SMOTE training):\")\n",
    "    for k, v in metrics.items():\n",
    "        print(f\"{k}:\\n{v}\\n\" if k == \"confusion_matrix\" else f\"{k}: {v:.4f}\")\n",
    "\n",
    "    # 7. Save Part 3 results\n",
    "    save_results_part3(metrics)\n",
    "\n",
    "    # 8. Load Part 1 results (plain text)\n",
    "    part1_metrics = {}\n",
    "    try:\n",
    "        with open('results/results_part1.txt', 'r') as f:\n",
    "            for line in f:\n",
    "                if ':' in line and 'confusion_matrix' not in line:\n",
    "                    key, value = line.strip().split(':', 1)\n",
    "                    try:\n",
    "                        part1_metrics[key.strip()] = float(value.strip())\n",
    "                    except ValueError:\n",
    "                        continue\n",
    "\n",
    "        # 9. Compare Part 1 vs Part 3\n",
    "        comparison = compare_models(part1_metrics, metrics)\n",
    "        print(\"\\n📊 Model Comparison (Improvement % from Part 1 to Part 3):\")\n",
    "        for metric, improvement in comparison.items():\n",
    "            print(f\"{metric}: {improvement:.2f}%\")\n",
    "\n",
    "    except FileNotFoundError:\n",
    "        print(\"❗ Part 1 results not found. Please run part1_introduction.ipynb first.\")\n"
   ]
  },
  {
   "cell_type": "markdown",
   "id": "8bc0e3a1",
   "metadata": {},
   "source": [
    "## 9. Compare Results\n",
    "\n",
    "Implement a function to compare model performance between balanced and imbalanced data."
   ]
  },
  {
   "cell_type": "code",
   "execution_count": 39,
   "id": "8677c57e",
   "metadata": {},
   "outputs": [],
   "source": [
    "def compare_models(part1_metrics, part3_metrics):\n",
    "    \"\"\"\n",
    "    Calculate percentage improvement between models trained on imbalanced vs. balanced data.\n",
    "    \n",
    "    Args:\n",
    "        part1_metrics: Dictionary containing evaluation metrics from Part 1 (imbalanced)\n",
    "        part3_metrics: Dictionary containing evaluation metrics from Part 3 (balanced)\n",
    "        \n",
    "    Returns:\n",
    "        Dictionary with metric names as keys and improvement percentages as values\n",
    "    \"\"\"\n",
    "    comparison = {}\n",
    "\n",
    "    # Metrics where higher is better\n",
    "    higher_is_better = ['accuracy', 'precision', 'recall', 'f1_score', 'auc']\n",
    "\n",
    "    for metric in higher_is_better:\n",
    "        val1 = part1_metrics.get(metric)\n",
    "        val3 = part3_metrics.get(metric)\n",
    "\n",
    "        if val1 is None or val3 is None:\n",
    "            comparison[metric] = \"N/A\"\n",
    "            continue\n",
    "\n",
    "        try:\n",
    "            if val1 == 0:\n",
    "                improvement = float('inf') if val3 > 0 else 0.0\n",
    "            else:\n",
    "                improvement = ((val3 - val1) / abs(val1)) * 100\n",
    "            comparison[metric] = improvement\n",
    "        except Exception:\n",
    "            comparison[metric] = \"N/A\"\n",
    "\n",
    "    return comparison"
   ]
  }
 ],
 "metadata": {
  "jupytext": {
   "cell_metadata_filter": "-all",
   "main_language": "python",
   "notebook_metadata_filter": "-all"
  },
  "kernelspec": {
   "display_name": "Python 3",
   "language": "python",
   "name": "python3"
  },
  "language_info": {
   "codemirror_mode": {
    "name": "ipython",
    "version": 3
   },
   "file_extension": ".py",
   "mimetype": "text/x-python",
   "name": "python",
   "nbconvert_exporter": "python",
   "pygments_lexer": "ipython3",
   "version": "3.13.2"
  }
 },
 "nbformat": 4,
 "nbformat_minor": 5
}
